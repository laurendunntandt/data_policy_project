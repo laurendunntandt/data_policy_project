{
 "cells": [
  {
   "cell_type": "markdown",
   "id": "07e4aaf3",
   "metadata": {},
   "source": [
    "# Secrets File\n",
    "\n",
    "Originally created by Duncan Leng, 2021-11-16\n",
    "\n",
    "Added to Data Science DaSH template by QA team, 2022-01-12\n",
    "\n",
    "## Introduction\n",
    "\n",
    "Secrets files (`config/secrets.ini`) consist of a set of key-value pairs that store parameters that change depending on where our code is ran and by whom.\n",
    "\n",
    "This is typically important for storing user details for connecting to databases such as usernames, but can be used for other things such as project folder paths. \n",
    "\n",
    "It is crucial that this file does not enter version control. \n",
    "\n",
    "Other users will need their own copy of the secrets file with the same keys but their won values to run other's code. They can also easily integrate the same keys into their own code and avoid duplication. "
   ]
  },
  {
   "cell_type": "markdown",
   "id": "ac385664",
   "metadata": {},
   "source": [
    "## Example secrets/user_secrets.ini\n",
    "\n",
    "This is an example of the user_secrets.ini\n",
    "\n",
    "```ini\n",
    "[project]\n",
    "projectroot = C:\\Users\\JohnSmithJBC\\Documents\\jbc-estimates\n",
    "\n",
    "[user]\n",
    "name = John Smith\n",
    "username = John.Smith@test-and-trace.nhs.uk\n",
    "\n",
    "```\n",
    "\n",
    "You will need to make your own `config/secrets.ini` file, copy this in and edit with your own details.\n",
    "Do not use quote marks \"'\" as the value is read in as is.\n",
    "\n",
    "Over time new key-values might get added."
   ]
  },
  {
   "cell_type": "code",
   "execution_count": null,
   "id": "429805f3",
   "metadata": {},
   "outputs": [],
   "source": []
  },
  {
   "cell_type": "markdown",
   "id": "efa3e917",
   "metadata": {},
   "source": [
    "## Using in python\n",
    "\n",
    "We recommend using configparser: https://docs.python.org/3/library/configparser.html\n",
    "\n",
    "To use the `secrets.ini` file you can do the following:\n",
    "\n",
    "1. `import configparser`\n",
    "2. make the config object\n",
    "3. define the path to the secrets file - this can be relative!\n",
    "4. read in the secrets file\n",
    "5. access the secrets \n",
    "\n",
    "As the secrets file will always be in the same place in the repo for everyone, you can use relative paths to read in the file. \n",
    "\n",
    "We recommend all members of the team store the secrets file within `/config/` for consistency. \n",
    "\n",
    "You can then read project root paths etc from there. "
   ]
  },
  {
   "cell_type": "code",
   "execution_count": null,
   "id": "575082da",
   "metadata": {},
   "outputs": [],
   "source": [
    "import configparser\n",
    "import os\n",
    "\n",
    "\n",
    "# make config object\n",
    "secrets = configparser.ConfigParser()\n",
    "\n",
    "# you might need to update this to your system's path\n",
    "# read in the secrets file\n",
    "path_to_secrets = os.path.join(\"..\", \"..\", \"config\", \"secrets.ini\")\n",
    "secrets.read(path_to_secrets)"
   ]
  },
  {
   "cell_type": "markdown",
   "id": "7bf3c6cd",
   "metadata": {},
   "source": [
    "The key value pairs within the ini file are read in as a structure similar to a nested dictionary.\n",
    "\n",
    "Once read, you can access different elements of the configuration file like this:"
   ]
  },
  {
   "cell_type": "code",
   "execution_count": null,
   "id": "dcc20c52",
   "metadata": {},
   "outputs": [],
   "source": [
    "secrets[\"user\"][\"name\"]"
   ]
  },
  {
   "cell_type": "code",
   "execution_count": null,
   "id": "caba8149",
   "metadata": {},
   "outputs": [],
   "source": [
    "secrets.sections()"
   ]
  },
  {
   "cell_type": "code",
   "execution_count": null,
   "id": "b50401e6",
   "metadata": {},
   "outputs": [],
   "source": [
    "list(secrets[\"user\"])"
   ]
  },
  {
   "cell_type": "code",
   "execution_count": null,
   "id": "eb9c5dea",
   "metadata": {},
   "outputs": [],
   "source": []
  }
 ],
 "metadata": {
  "kernelspec": {
   "display_name": "conda_python3",
   "language": "python",
   "name": "conda_python3"
  },
  "language_info": {
   "codemirror_mode": {
    "name": "ipython",
    "version": 3
   },
   "file_extension": ".py",
   "mimetype": "text/x-python",
   "name": "python",
   "nbconvert_exporter": "python",
   "pygments_lexer": "ipython3",
   "version": "3.6.13"
  }
 },
 "nbformat": 4,
 "nbformat_minor": 5
}
