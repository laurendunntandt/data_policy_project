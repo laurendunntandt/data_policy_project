{
 "cells": [
  {
   "cell_type": "markdown",
   "id": "fc1d91e5",
   "metadata": {},
   "source": [
    "# How to use the Data Catalogue file\n",
    "\n",
    "Originally created by Duncan Leng, 2021-11-16\n",
    "\n",
    "Added to Data Science DaSH template by QA team, 2022-01-12\n",
    "\n",
    "## Introduction\n",
    "\n",
    "The data catalogue files (`/data_catalogue.ini`) consist of a set of key-value pairs that store parameters related to our data marts. This will be the same for each user in a team, but might change in the future as the team moves to different servers or systems.\n",
    "\n",
    "By parameterising the parts of the database connections the team can all use the same common connection strings and can switch to future systems easily. \n",
    "\n",
    "As these values are static for different users and are not sensitive, this file can be kept under version control. As new mart details are required the data_catalogue will grow. "
   ]
  },
  {
   "cell_type": "markdown",
   "id": "45a285a1",
   "metadata": {},
   "source": [
    "## Example /data_catalogue.ini\n",
    "\n",
    "This is an example of the data_catalogue.ini. It consists of a series of sections for each data mart we connect to. In future the keys could grow to include other details we need about the data source. \n",
    "\n",
    "```ini\n",
    "[s3_connection_bucket_example]\n",
    "bucket = dash-123456789-prod-s3-data-wip\n",
    "cases_folder = PROJECT/NAME/source_data/cases\n",
    "deaths_folder = PROJECT/NAME/source_data/deaths\n",
    "\n",
    "[s3_connection_file_example]\n",
    "path = s3://dash-123456789-prod-s3-data-wip/PROJECT/NAME/source_data/lookups/encodings.json\n",
    "\n",
    "[db_connection_had]\n",
    "database = HealthAnalysisDirectorate\n",
    "server = sae-prd-mart-sql.database.windows.net\n",
    "\n",
    "[db_connection_ref]\n",
    "database = reference\n",
    "server = sae-prd-mart-sql.database.windows.net\n",
    "```\n",
    "\n",
    "Over time new key-values might get added.\n"
   ]
  },
  {
   "cell_type": "markdown",
   "id": "fb80c80b",
   "metadata": {},
   "source": [
    "## Using in python\n",
    "\n",
    "We recommend using configparser: https://docs.python.org/3/library/configparser.html\n",
    "\n",
    "To use the data_catalogue file you can do the following:\n",
    "\n",
    "1. `import configparser`\n",
    "2. make the config object\n",
    "3. define the path to the data_catalogue file - this can be relative!\n",
    "4. read in the data_catalogue file\n",
    "5. access the data_catalogue \n",
    "\n",
    "As the data_catalogue file will always be in the same place in the repo for everyone, you can use relative paths to read in the file. "
   ]
  },
  {
   "cell_type": "code",
   "execution_count": null,
   "id": "2cee161b",
   "metadata": {},
   "outputs": [],
   "source": [
    "import configparser\n",
    "import os\n",
    "\n",
    "# make config object\n",
    "data_catalogue = configparser.ConfigParser()\n",
    "\n",
    "# you might need to update this to your system's path\n",
    "# read in the data_catalogue file\n",
    "path_to_data_catalogue = os.path.join(\n",
    "    \"..\", \"..\", \"data_catalogue\", \"data_catalogue.ini\"\n",
    ")\n",
    "data_catalogue.read(path_to_data_catalogue)"
   ]
  },
  {
   "cell_type": "markdown",
   "id": "72db75cd",
   "metadata": {},
   "source": [
    "The key value pairs within the ini file are read in as a structure similar to a nested dictionary.\n",
    "\n",
    "Once read, you can access different elements of the configuration file like this:"
   ]
  },
  {
   "cell_type": "code",
   "execution_count": null,
   "id": "584bce16",
   "metadata": {},
   "outputs": [],
   "source": [
    "data_catalogue[\"s3_connection_bucket_example\"][\"bucket\"]"
   ]
  },
  {
   "cell_type": "code",
   "execution_count": null,
   "id": "49cb344a",
   "metadata": {},
   "outputs": [],
   "source": [
    "data_catalogue.sections()"
   ]
  },
  {
   "cell_type": "code",
   "execution_count": null,
   "id": "ed48e253",
   "metadata": {},
   "outputs": [],
   "source": [
    "list(data_catalogue[\"db_connection_had\"])"
   ]
  }
 ],
 "metadata": {
  "kernelspec": {
   "display_name": "conda_python3",
   "language": "python",
   "name": "conda_python3"
  },
  "language_info": {
   "codemirror_mode": {
    "name": "ipython",
    "version": 3
   },
   "file_extension": ".py",
   "mimetype": "text/x-python",
   "name": "python",
   "nbconvert_exporter": "python",
   "pygments_lexer": "ipython3",
   "version": "3.6.13"
  }
 },
 "nbformat": 4,
 "nbformat_minor": 5
}
