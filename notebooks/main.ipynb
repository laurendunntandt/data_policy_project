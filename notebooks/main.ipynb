{
 "cells": [
  {
   "cell_type": "code",
   "execution_count": null,
   "metadata": {},
   "outputs": [],
   "source": [
    "import pandas as pd\n",
    "import numpy as np"
   ]
  },
  {
   "attachments": {},
   "cell_type": "markdown",
   "metadata": {},
   "source": [
    "# Project Title\n",
    "\n",
    "create a dashboard where you can perform linear regression between 2 different variables\n",
    "gas / electricity vs different economic sectors in GB"
   ]
  },
  {
   "cell_type": "code",
   "execution_count": null,
   "metadata": {},
   "outputs": [],
   "source": [
    "#energy prices using CPI index over the years\n",
    "# https://www.ons.gov.uk/economy/inflationandpriceindices/timeseries/d7du/mm23\n",
    "# https://www.ons.gov.uk/economy/inflationandpriceindices/timeseries/d7dt/mm23\n",
    "df_gas = pd.read_csv(filepath_or_buffer = \"../data/raw/series-050923-gas.csv\", header = 7, names = ['year', 'cpi_gas']) \n",
    "df_electricity = pd.read_csv(filepath_or_buffer = \"../data/raw/series-160823-electricity.csv\", header = 7, names = ['year', 'cpi_gas'] )"
   ]
  },
  {
   "cell_type": "code",
   "execution_count": null,
   "metadata": {},
   "outputs": [],
   "source": [
    "df_electricity_months = df_electricity[177:].copy()\n",
    "df_electricity_months['date_datetime'] = pd.to_datetime(df_electricity_months['year'], format='%Y %b')\n",
    "df_electricity_months.to_csv(\"../data/processed/energy_price_electricity.csv\")"
   ]
  },
  {
   "cell_type": "code",
   "execution_count": null,
   "metadata": {},
   "outputs": [],
   "source": [
    "df_gas_months = df_gas[177:].copy()\n",
    "df_gas_months['date_datetime'] = pd.to_datetime(df_gas_months['year'], format='%Y %b')\n",
    "#df_gas_quarters = df_gas[35:177].copy()\n",
    "#df_gas_years = df_gas[:35].copy()"
   ]
  },
  {
   "cell_type": "code",
   "execution_count": null,
   "metadata": {},
   "outputs": [],
   "source": [
    "df_gas_months.head()"
   ]
  },
  {
   "cell_type": "code",
   "execution_count": null,
   "metadata": {},
   "outputs": [],
   "source": [
    "df_CPI = pd.read_csv(filepath_or_buffer = \"../data/raw/mm23.csv\"\n",
    "                     )"
   ]
  },
  {
   "cell_type": "code",
   "execution_count": null,
   "metadata": {},
   "outputs": [],
   "source": [
    "#getting the right months\n",
    "df_months = df_CPI[1017:1444].copy()\n",
    "df_months['Title'] = pd.to_datetime(df_months['Title'], format='%Y %b')"
   ]
  },
  {
   "cell_type": "code",
   "execution_count": null,
   "metadata": {},
   "outputs": [],
   "source": [
    "#df_electricity_cpi = df_months.loc[:, ['Title', 'CPI INDEX 04.5.1 : ELECTRICITY 2015=100']]\n",
    "#df_gas_cpi = df_months.loc[:, ['Title', 'CPI INDEX 04.5.2 : GAS 2015=100']]\n",
    "#df_clothing_footwear_cpi = df_months.loc[:, ['Title', 'CPI INDEX 03 : CLOTHING AND FOOTWEAR 2015=100']]\n",
    "#df_alcoholic_tobacco = df_months.loc[:, ['Title', \"CPI INDEX 02:ALCOHOLIC BEVERAGES,TOBACCO & NARCOTICS 2015=100\"]]\n",
    "#df_education = df_months.loc[:, ['Title', \"CPI INDEX 10 : EDUCATION 2015=100\"]]\n",
    "#df_misc = df_months.loc[:, ['Title', \"CPI INDEX 12 : MISCELLANEOUS GOODS AND SERVICES 2015=100\"]]\n",
    "#df_communication = df_months.loc[:, ['Title', \"CPI INDEX 08 : COMMUNICATION 2015=100\"]]\n",
    "#df_furniture = df_months.loc[:, ['Title', \"CPI INDEX 05.1.1 : Furniture and furnishings 2015=100\"]]\n",
    "#df_health = df_months.loc[:, ['Title', \"CPI INDEX 06 : HEALTH 2015=100\"]]\n",
    "#df_recreation = df_months.loc[:, ['Title', \"CPI INDEX 09 : RECREATION & CULTURE 2015=100\"]]\n",
    "#df_food = df_months.loc[:, ['Title', \"CPI INDEX 01 : FOOD AND NON-ALCOHOLIC BEVERAGES 2015=100\" ]]\n",
    "#df_restaurants = df_months.loc[:, ['Title', \"CPI INDEX 11 : HOTELS, CAFES AND RESTAURANTS 2015=100\"]]\n",
    "#df_transport = df_months.loc[:, ['Title', \"CPI INDEX 07 : TRANSPORT 2015=100\" ]]\n",
    "#df_housing_rent = df_months.loc[:, ['Title', \"CPI INDEX 04.1 : ACTUAL RENTS FOR HOUSING 2015=100\"]]\n",
    "#df_housing_rent_private = df_CPI.loc[1017:1444, ['Title', \"CPI INDEX: PRIVATE RENTALS FOR HOUSING 2015=100\"]]\n",
    "#df_housing_rent_non_private=df_CPI.loc[1017:1444, ['Title', \"CPI INDEX: NON - PRIVATE RENTALS FOR HOUSING 2015=100\"]]\n",
    "#df_housing_rent_social=df_CPI.loc[1017:1444, ['Title', \"CPI INDEX: REGISTERED SOCIAL LANDLORD RENTALS FOR HOUSING 2015=100\"]]\n",
    "#df_housing_rent_la =df_CPI.loc[1017:1444, ['Title',  \"CPI INDEX: LOCAL AUTHORITY RENTALS FOR HOUSING 2015=100\"]]                          "
   ]
  },
  {
   "cell_type": "code",
   "execution_count": null,
   "metadata": {},
   "outputs": [],
   "source": [
    "CPI_division_level = [\n",
    "    'CPI INDEX 04.5.1 : ELECTRICITY 2015=100',\n",
    "    'CPI INDEX 04.5.2 : GAS 2015=100',\n",
    "    'CPI INDEX 03 : CLOTHING AND FOOTWEAR 2015=100',\n",
    "    \"CPI INDEX 02:ALCOHOLIC BEVERAGES,TOBACCO & NARCOTICS 2015=100\",\n",
    "    \"CPI INDEX 10 : EDUCATION 2015=100\",\n",
    "    \"CPI INDEX 12 : MISCELLANEOUS GOODS AND SERVICES 2015=100\",\n",
    "    \"CPI INDEX 08 : COMMUNICATION 2015=100\",\n",
    "    \"CPI INDEX 05.1 : Furniture, furnishings and carpets 2015=100\",\n",
    "    \"CPI INDEX 06 : HEALTH 2015=100\",\n",
    "    \"CPI INDEX 09 : RECREATION & CULTURE 2015=100\",\n",
    "    \"CPI INDEX 01 : FOOD AND NON-ALCOHOLIC BEVERAGES 2015=100\",\n",
    "    \"CPI INDEX 11 : HOTELS, CAFES AND RESTAURANTS 2015=100\",\n",
    "    \"CPI INDEX 07 : TRANSPORT 2015=100\",\n",
    "    \"CPI INDEX 04.1 : ACTUAL RENTS FOR HOUSING 2015=100\"\n",
    "]\n",
    "\n",
    "# Create a list of DataFrames to merge\n",
    "dfs_to_merge = [df_months[['Title', x]] for x in CPI_division_level]\n",
    "\n",
    "# Merge the DataFrames on the \"Title\" column\n",
    "merged_df = dfs_to_merge[0]\n",
    "for df in dfs_to_merge[1:]:\n",
    "    merged_df = pd.merge(merged_df, df, on=\"Title\", how='inner')\n",
    "\n",
    "\n",
    "\n",
    "columns = ['Date', 'Electricity', 'Gas', 'Clothing and Footwear', 'Alcoholic Beverages, tobacco & Narcotics', 'Education',\n",
    "                       'Misc Goods and Services', 'Communication', 'Furniture and Furnishings', 'Health', 'Recreation & Culture',\n",
    "                       'Food and Non-Alcoholic Beverages', 'Hotels, Cafes and Restaurants', 'Transport', 'Actual Rents for Housing']\n",
    "merged_df.columns = columns"
   ]
  },
  {
   "cell_type": "code",
   "execution_count": null,
   "metadata": {},
   "outputs": [],
   "source": [
    "merged_df_long = merged_df.copy()\n",
    "merged_df_long = merged_df_long.set_index('Date').melt(ignore_index=False).reset_index()\n",
    "merged_df_long"
   ]
  },
  {
   "cell_type": "code",
   "execution_count": null,
   "metadata": {},
   "outputs": [],
   "source": [
    "merged_df.to_csv(\"../data/processed/merged_df.csv\")\n",
    "merged_df_long.to_csv(\"../data/processed/merged_df_long.csv\")"
   ]
  }
 ],
 "metadata": {
  "kernelspec": {
   "display_name": "ons_data_policy",
   "language": "python",
   "name": "python3"
  },
  "language_info": {
   "codemirror_mode": {
    "name": "ipython",
    "version": 3
   },
   "file_extension": ".py",
   "mimetype": "text/x-python",
   "name": "python",
   "nbconvert_exporter": "python",
   "pygments_lexer": "ipython3",
   "version": "3.11.4"
  }
 },
 "nbformat": 4,
 "nbformat_minor": 2
}
