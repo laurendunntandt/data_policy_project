{
 "cells": [
  {
   "attachments": {},
   "cell_type": "markdown",
   "metadata": {},
   "source": [
    "# Project Title"
   ]
  },
  {
   "attachments": {},
   "cell_type": "markdown",
   "metadata": {},
   "source": [
    "## Import Packages"
   ]
  },
  {
   "cell_type": "code",
   "execution_count": null,
   "metadata": {},
   "outputs": [],
   "source": [
    "import pandas as pd\n",
    "import numpy as np\n",
    "import re\n",
    "import requests\n",
    "import plotly\n",
    "import plotly.express as px\n",
    "#import nbformat"
   ]
  },
  {
   "attachments": {},
   "cell_type": "markdown",
   "metadata": {},
   "source": [
    "## Get and Read in CSV"
   ]
  },
  {
   "cell_type": "code",
   "execution_count": null,
   "metadata": {},
   "outputs": [],
   "source": [
    "# Replace 'csv_url' with the direct URL of the CSV file\n",
    "csv_url = \"https://www.ons.gov.uk/file?uri=/economy/inflationandpriceindices/datasets/consumerpriceindices/current/mm23.csv\"\n",
    "\n",
    "# Make a GET request to the CSV file URL\n",
    "response = requests.get(csv_url)\n",
    "\n",
    "# Check if the request was successful\n",
    "if response.status_code == 200:\n",
    "    # Save the CSV content to a local file\n",
    "    with open('../data/raw/mm23.csv', 'wb') as csv_file:\n",
    "        csv_file.write(response.content)\n",
    "    print(\"CSV file downloaded successfully.\")\n",
    "else:\n",
    "    print(\"Failed to fetch the CSV file.\")"
   ]
  },
  {
   "cell_type": "code",
   "execution_count": null,
   "metadata": {},
   "outputs": [],
   "source": [
    "df_CPI = pd.read_csv(filepath_or_buffer = \"../data/raw/mm23.csv\")"
   ]
  },
  {
   "attachments": {},
   "cell_type": "markdown",
   "metadata": {},
   "source": [
    "## Data Cleaning"
   ]
  },
  {
   "cell_type": "code",
   "execution_count": null,
   "metadata": {},
   "outputs": [],
   "source": [
    "#getting the right months, issue here is that cells might change better to do it with matching? \n",
    "df_months = df_CPI[1017:1444].copy()\n",
    "df_months['Title'] = pd.to_datetime(df_months['Title'], format='%Y %b')"
   ]
  },
  {
   "cell_type": "code",
   "execution_count": null,
   "metadata": {},
   "outputs": [],
   "source": [
    "CPI_division_level = [\n",
    "    \"CPI INDEX 01 : FOOD AND NON-ALCOHOLIC BEVERAGES 2015=100\",\n",
    "    \"CPI INDEX 02:ALCOHOLIC BEVERAGES,TOBACCO & NARCOTICS 2015=100\",\n",
    "    'CPI INDEX 03 : CLOTHING AND FOOTWEAR 2015=100',\n",
    "    \"CPI INDEX 04 : HOUSING, WATER AND FUELS 2015=100\",\n",
    "    \"CPI INDEX 05 : FURN, HH EQUIP & ROUTINE REPAIR OF HOUSE 2015=100\",\n",
    "    \"CPI INDEX 06 : HEALTH 2015=100\",\n",
    "    \"CPI INDEX 07 : TRANSPORT 2015=100\",\n",
    "    \"CPI INDEX 08 : COMMUNICATION 2015=100\",\n",
    "    \"CPI INDEX 09 : RECREATION & CULTURE 2015=100\",\n",
    "    \"CPI INDEX 10 : EDUCATION 2015=100\",\n",
    "    \"CPI INDEX 11 : HOTELS, CAFES AND RESTAURANTS 2015=100\",\n",
    "    \"CPI INDEX 12 : MISCELLANEOUS GOODS AND SERVICES 2015=100\"\n",
    "]\n",
    "     \n",
    "CPIH_division_level = [\"CPIH INDEX 01 : FOOD AND NON-ALCOHOLIC BEVERAGES 2015=100\",\n",
    "                       \"CPIH INDEX 02:ALCOHOLIC BEVERAGES,TOBACCO & NARCOTICS 2015=100\",\n",
    "                       \"CPIH INDEX 03 : CLOTHING AND FOOTWEAR 2015=100\",\n",
    "                       \"CPIH INDEX 04: Housing, water, electricity, gas and other fuels 2015=100\", #this is different to above\n",
    "                       \"CPIH INDEX 05 : FURN, HH EQUIP & ROUTINE REPAIR OF HOUSE 2015=100\",\n",
    "                       \"CPIH INDEX 06 : HEALTH 2015=100\",\n",
    "                       \"CPIH INDEX 07 : TRANSPORT2015=100\",\n",
    "                       \"CPIH INDEX 08 : COMMUNICATION 2015=100\",\n",
    "                       \"CPIH INDEX 09 : RECREATION & CULTURE 2015=100\",\n",
    "                       \"CPIH INDEX 10 : EDUCATION 2015=100\",\n",
    "                       \"CPIH INDEX 11 : HOTELS, CAFES AND RESTAURANTS 2015=100\",\n",
    "                       \"CPIH INDEX 12 : MISCELLANEOUS GOODS AND SERVICES 2015=100\"\n",
    "                       ]\n",
    "\n",
    "CPH_CPIH_list = [CPI_division_level, CPIH_division_level]\n",
    "\n",
    "CPH_CPIH_list_df = []\n",
    "\n",
    "for division_type in CPH_CPIH_list:\n",
    "\n",
    "    # Create a list of DataFrames to merge\n",
    "    dfs_to_merge = [df_months[['Title', x]] for x in division_type]\n",
    "\n",
    "    # Merge the DataFrames on the \"Title\" column\n",
    "    merged_df = dfs_to_merge[0]\n",
    "    for df in dfs_to_merge[1:]:\n",
    "        merged_df = pd.merge(merged_df, df, on=\"Title\", how='inner')\n",
    "        \n",
    "\n",
    "\n",
    "\n",
    "    #renaming columns - could create a function for this\n",
    "    if division_type == CPI_division_level:\n",
    "        merged_df = merged_df.rename(columns = {\"CPI INDEX 02:ALCOHOLIC BEVERAGES,TOBACCO & NARCOTICS 2015=100\":\"CPI INDEX 02 : ALCOHOLIC BEVERAGES,TOBACCO & NARCOTICS 2015=100\",\n",
    "                                            \"Title\":\"Date\"})\n",
    "        clean_column_names = []\n",
    "        pattern = r'CPI INDEX \\d+ : (.*?) \\d+=\\d+'\n",
    "        clean_column_names.extend([re.sub(pattern, r'\\1', text) for text in merged_df.columns])\n",
    "        \n",
    "        merged_df.columns = clean_column_names\n",
    "    else:\n",
    "        merged_df = merged_df.rename(columns = {\"CPIH INDEX 02:ALCOHOLIC BEVERAGES,TOBACCO & NARCOTICS 2015=100\": \"CPIH INDEX 02 : ALCOHOLIC BEVERAGES,TOBACCO & NARCOTICS 2015=100\",\n",
    "                                            \"Title\":\"Date\",\n",
    "                                            \"CPIH INDEX 07 : TRANSPORT2015=100\" : \"CPIH INDEX 07 : TRANSPORT 2015=100\",\n",
    "                                             \"CPIH INDEX 04: Housing, water, electricity, gas and other fuels 2015=100\":  \"CPIH INDEX 04 : Housing, water, electricity, gas and other fuels 2015=100\"})\n",
    "        clean_column_names = []\n",
    "        pattern = r'CPIH INDEX \\d+ : (.+?) 2015=100'\n",
    "        clean_column_names.extend([re.sub(pattern, r'\\1', text) for text in merged_df.columns])\n",
    "        \n",
    "        merged_df.columns = clean_column_names\n",
    "        \n",
    "\n",
    "    \n",
    "    CPH_CPIH_list_df.append(merged_df)\n",
    "    \n",
    "\n"
   ]
  },
  {
   "cell_type": "code",
   "execution_count": null,
   "metadata": {},
   "outputs": [],
   "source": [
    "long_df_list = []\n",
    "\n",
    "for x in CPH_CPIH_list_df:\n",
    "    merged_df_long = x.copy()\n",
    "    merged_df_long = merged_df_long.set_index('Date').melt(ignore_index=False).reset_index()\n",
    "    long_df_list.append(merged_df_long)"
   ]
  },
  {
   "attachments": {},
   "cell_type": "markdown",
   "metadata": {},
   "source": [
    "### Combining DataFrames"
   ]
  },
  {
   "cell_type": "code",
   "execution_count": null,
   "metadata": {},
   "outputs": [],
   "source": [
    "long_CPI = long_df_list[1].copy()\n",
    "long_CPI.columns = ['Date', 'Index Name', 'Value']\n",
    "long_CPI['Name'] = \"CPI\"\n",
    "long_CPI"
   ]
  },
  {
   "cell_type": "code",
   "execution_count": null,
   "metadata": {},
   "outputs": [],
   "source": [
    "#dataframe which has CPIH and CPI columns in long format\n",
    "long_CPIH = long_df_list[0].copy()\n",
    "long_CPIH.columns = ['Date', 'Index Name', 'Value']\n",
    "long_CPIH['Name'] = 'CPIH'\n",
    "long_CPIH"
   ]
  },
  {
   "cell_type": "code",
   "execution_count": null,
   "metadata": {},
   "outputs": [],
   "source": [
    "combined_df = pd.concat([long_CPIH, long_CPI], ignore_index=True)\n",
    "combined_df = combined_df.sort_values(by=['Date'])"
   ]
  },
  {
   "cell_type": "code",
   "execution_count": null,
   "metadata": {},
   "outputs": [],
   "source": [
    "combined_df.head(20)"
   ]
  },
  {
   "attachments": {},
   "cell_type": "markdown",
   "metadata": {},
   "source": [
    "## Saving CSV"
   ]
  },
  {
   "cell_type": "code",
   "execution_count": null,
   "metadata": {},
   "outputs": [],
   "source": [
    "#CPH_CPIH_list_df[0].to_csv(\"../data/processed/CPI_df.csv\")\n",
    "#long_df_list[0].to_csv(\"../data/processed/CPI_long_df.csv\")\n",
    "#long_CPI.to_csv(\"../data/processed/CPI_long_df.csv\")\n",
    "\n",
    "#CPH_CPIH_list_df[1].to_csv(\"../data/processed/CPIH_df.csv\")\n",
    "#long_df_list[1].to_csv(\"../data/processed/CPIH_df_long.csv\")\n",
    "#long_CPIH.to_csv(\"../data/processed/CPIH_df_long.csv\")\n",
    "\n",
    "\n",
    "\n",
    "combined_df.to_csv(\"../data/processed/CPIH_and_CPI_df.csv\")\n"
   ]
  }
 ],
 "metadata": {
  "kernelspec": {
   "display_name": "ons_data_policy",
   "language": "python",
   "name": "python3"
  },
  "language_info": {
   "codemirror_mode": {
    "name": "ipython",
    "version": 3
   },
   "file_extension": ".py",
   "mimetype": "text/x-python",
   "name": "python",
   "nbconvert_exporter": "python",
   "pygments_lexer": "ipython3",
   "version": "3.11.4"
  }
 },
 "nbformat": 4,
 "nbformat_minor": 2
}
